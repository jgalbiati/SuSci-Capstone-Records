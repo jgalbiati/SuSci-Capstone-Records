{
 "cells": [
  {
   "cell_type": "code",
   "execution_count": 1,
   "metadata": {},
   "outputs": [],
   "source": [
    "import os\n",
    "import numpy as np\n",
    "import pandas as pd\n",
    "import scipy.stats\n",
    "from sklearn.linear_model import LinearRegression as lr\n",
    "import datetime as dt\n",
    "%matplotlib inline\n",
    "import matplotlib.pyplot as plt\n",
    "plt.style.use('seaborn-whitegrid')\n",
    "os.chdir('C:\\\\Users\\\\VanBuren\\\\Desktop\\\\Coursework\\\\Capstone\\\\Coding_analysis\\\\Test_Data')"
   ]
  },
  {
   "cell_type": "code",
   "execution_count": 13,
   "metadata": {},
   "outputs": [
    {
     "name": "stdout",
     "output_type": "stream",
     "text": [
      "0.5328656567210689\n"
     ]
    }
   ],
   "source": [
    "#NYDEC CALIBRATION SCHEME\n",
    "#----USEFUL FOR NON-SUBWAY CALIBRATIONS: INDOOR/OUTDOOR TIME.\n",
    "#designate timespan we want\n",
    "start = dt.datetime.strptime('2020-07-10', '%Y-%m-%d')\n",
    "end = dt.datetime.strptime('2021-01-27', '%Y-%m-%d')\n",
    "\n",
    "#Read in the NY DEC data, combine date/time columns into one datetime field for easier analysis\n",
    "refdata = pd.read_csv('nydec.csv',header = 1,parse_dates=[['Date','Time']]).rename(columns={\"PM25C_ug/m3LC\":\"PM2.5_ref\"})\n",
    "\n",
    "#Localize refdata to UTC (then remove timezone awareness)\n",
    "refdata['Date_Time'] = refdata['Date_Time'].dt.tz_localize('US/Eastern', ambiguous = 'NaT').dt.tz_convert('UTC').dt.tz_localize(None)\n",
    "refdata = refdata.loc[(refdata['Date_Time'] >= start) & ((refdata['Date_Time'] < end))]\n",
    "refdata = refdata.set_index(refdata.Date_Time)\n",
    "\n",
    "#read in purpleair datasets: hour averages (for best comparison to refdata data)\n",
    "#then limit range of PA sensor data to desired timespan\n",
    "#then set index to timestamp\n",
    "\n",
    "sensA = pd.read_csv('school_4_A_hr.csv',header = 0).rename(columns={\"Temperature_F\":\"Temp\",\"PM2.5_ATM_ug/m3\":\"PM2.5A\"})\n",
    "#remove localization\n",
    "sensA['created_at'] = pd.to_datetime(sensA['created_at']).dt.tz_localize(None)\n",
    "sensA = sensA.loc[(sensA['created_at'] >= start) & ((sensA['created_at'] < end))]\n",
    "sensA = sensA.set_index(sensA.created_at)\n",
    "\n",
    "sensB = pd.read_csv('school_4_B_hr.csv',header = 0).rename(columns={\"PM2.5_ATM_ug/m3\":\"PM2.5B\"})\n",
    "sensB['created_at'] = pd.to_datetime(sensB['created_at']).dt.tz_localize(None)\n",
    "sensB = sensB.loc[(sensB['created_at'] >= start) & ((sensB['created_at'] < end))]\n",
    "sensB = sensB.set_index(sensB.created_at)\n",
    "\n",
    "#Get all info onto a single dataframe\n",
    "df = pd.concat([sensA[['Temp','Humidity_%','PM2.5A']], sensB['PM2.5B'], refdata['PM2.5_ref']], axis = 1)\n",
    "df['PM2.5_test'] = df[['PM2.5A','PM2.5B']].mean(axis = 1)\n",
    "#Null values gonna screw up statswork later on, so let's ditch now\n",
    "df = df.loc[df['PM2.5_ref'].notnull() & df['PM2.5_test'].notnull() & df['Temp'].notnull() & df['Humidity_%'].notnull()]\n",
    "\n",
    "#statswork for multiple regression\n",
    "#Parameters for regression in X, assume they're predictors for nydec data as y\n",
    "\n",
    "#trained model: nydec = x0 + x1[temp] + x2[humidity] + x3[PA data]\n",
    "\n",
    "X = np.array(df[['Temp','Humidity_%','PM2.5_test']])\n",
    "y = np.array(df['PM2.5_ref'])\n",
    "reg = lr(fit_intercept = False).fit(X,y)\n",
    "\n",
    "reg_out = lambda o: np.dot(o,reg.coef_)"
   ]
  },
  {
   "cell_type": "code",
   "execution_count": 7,
   "metadata": {},
   "outputs": [],
   "source": [
    "#CALIBRATION SCHEME B\n",
    "#For calibrating data collected underground, based on gravimetric filters\n",
    "filt = pd.read_csv('Gravcal.csv',header = 0)\n",
    "\n",
    "\n",
    "X = np.column_stack([np.zeros(len(filt['PA PM2.5 avg'])),filt['PA PM2.5 avg']])\n",
    "y = np.array(filt['Grav(average)'])\n",
    "calibs = lr(fit_intercept = False).fit(X,y)\n",
    "reg_plat = lambda p: calibs.coef_[1]*p"
   ]
  },
  {
   "cell_type": "code",
   "execution_count": 8,
   "metadata": {},
   "outputs": [],
   "source": [
    "# Calibration Scheme C\n",
    "# For dealing with PA and aboveground trains:\n",
    "reg_sir = lambda q: q*(30.9/36.2)\n"
   ]
  },
  {
   "cell_type": "code",
   "execution_count": 5,
   "metadata": {},
   "outputs": [],
   "source": [
    "# How's about offloading calibrations to just one function\n",
    "def calibrate(frame):\n",
    "    #Establish which code gets calibrated how\n",
    "    codes_nydec = ['O','I','F']\n",
    "    codes_luglio = ['PU','T','E']\n",
    "    codes_sir = ['PA']\n",
    "    #then calibrate based on Loc_code\n",
    "    frame['PM2.5_calib'] = np.nan\n",
    "    \n",
    "    #nydec calibration\n",
    "    frame['PM2.5_calib'].loc[frame['Loc_code'].isin(codes_nydec)] = reg_out(\n",
    "        frame[['Temp','Humidity_%','PM2.5']].loc[frame['Loc_code'].isin(codes_nydec)])\n",
    "    #Filter calibration\n",
    "    frame['PM2.5_calib'].loc[frame['Loc_code'].isin(codes_luglio)] = reg_plat(\n",
    "        frame['PM2.5'].loc[frame['Loc_code'].isin(codes_luglio)])\n",
    "    #SIR calibration for aboveground plats\n",
    "    frame['PM2.5_calib'].loc[frame['Loc_code'].isin(codes_sir)] = reg_sir(\n",
    "        frame['PM2.5'].loc[frame['Loc_code'].isin(codes_sir)])\n",
    "    #Special aboveground train calibration using SIR\n",
    "    frame['PM2.5_calib'].loc[(frame['Loc_code']=='T') & (frame['Outside? (Y/N)'] == 'Y')] = reg_sir(\n",
    "        frame['PM2.5'].loc[(frame['Loc_code']=='T') & (frame['Outside? (Y/N)'] == 'Y')])\n",
    "    return frame\n"
   ]
  },
  {
   "cell_type": "code",
   "execution_count": 8,
   "metadata": {},
   "outputs": [
    {
     "name": "stderr",
     "output_type": "stream",
     "text": [
      "C:\\Users\\VanBuren\\Anaconda3\\lib\\site-packages\\pandas\\core\\indexing.py:205: SettingWithCopyWarning: \n",
      "A value is trying to be set on a copy of a slice from a DataFrame\n",
      "\n",
      "See the caveats in the documentation: http://pandas.pydata.org/pandas-docs/stable/user_guide/indexing.html#returning-a-view-versus-a-copy\n",
      "  self._setitem_with_indexer(indexer, value)\n"
     ]
    }
   ],
   "source": [
    "THen to run the calibration on the raw data\n",
    "dfsub = pd.read_csv('Master_compiled_BB.csv',header = 0, parse_dates = [['Date', 'Time_NYC']]).rename(\n",
    "    columns = {'Temperature (F)': 'Temp','Humidity (%)':'Humidity_%','PA PM2.5 (um/m3)':'PM2.5'})\n",
    "\n",
    "dfsub = dfsub.loc[dfsub['PM2.5'].notnull() & dfsub['Temp'].notnull() & dfsub['Humidity_%'].notnull() & \n",
    "                  dfsub['Location'].notnull()]\n",
    "dfsub = calibrate(dfsub)\n",
    "# dfsub.loc[(dfsub['Loc_code']=='T') & (dfsub['Outside? (Y/N)'] == 'Y')]\n",
    "dfsub.to_csv('Masterlist.csv')"
   ]
  }
 ],
 "metadata": {
  "kernelspec": {
   "display_name": "Python 3",
   "language": "python",
   "name": "python3"
  },
  "language_info": {
   "codemirror_mode": {
    "name": "ipython",
    "version": 3
   },
   "file_extension": ".py",
   "mimetype": "text/x-python",
   "name": "python",
   "nbconvert_exporter": "python",
   "pygments_lexer": "ipython3",
   "version": "3.6.8"
  }
 },
 "nbformat": 4,
 "nbformat_minor": 2
}
