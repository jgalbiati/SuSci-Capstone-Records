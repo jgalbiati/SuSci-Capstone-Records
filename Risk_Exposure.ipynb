{
 "cells": [
  {
   "cell_type": "code",
   "execution_count": 1,
   "metadata": {},
   "outputs": [],
   "source": [
    "import os\n",
    "import numpy as np\n",
    "import pandas as pd\n",
    "import scipy.stats\n",
    "from sklearn.linear_model import LinearRegression as lr\n",
    "import datetime as dt\n",
    "%matplotlib inline\n",
    "import matplotlib.pyplot as plt\n",
    "# plt.style.use('seaborn-whitegrid')\n",
    "os.chdir('C:\\\\Users\\\\VanBuren\\\\Desktop\\\\Coursework\\\\Capstone\\\\Coding_analysis\\\\Test_Data')"
   ]
  },
  {
   "cell_type": "code",
   "execution_count": null,
   "metadata": {},
   "outputs": [],
   "source": [
    "# Sad to say, I think this one's getting scrapped\n",
    "\n",
    "def risk_factor(concentration,contaminant):\n",
    "    cont_factors = {\"benzene\":0.1} #non-carcinogens to be filled in 1/ref_dose\n",
    "    \n",
    "    weight = 70 #kg\n",
    "    ir = .003 * 25 * 3600 #m^3/breath * breath/min * min/day = m^3/day\n",
    "    \n",
    "    #freq is number days/year exposure happens; duration is #years covered in analysis\n",
    "    freq = 180 # days/year\n",
    "    duration = 3 # years\n",
    "    avging_time = duration * 365 #days, ultimately\n",
    "    ef = (freq * duration)/avging_time\n",
    "    \n",
    "    add = (concentration * ir * ef)/weight\n",
    "    risk = add*cont_factors[contaminant]\n",
    "    return risk"
   ]
  },
  {
   "cell_type": "code",
   "execution_count": 4,
   "metadata": {
    "scrolled": true
   },
   "outputs": [
    {
     "data": {
      "text/html": [
       "<div>\n",
       "<style scoped>\n",
       "    .dataframe tbody tr th:only-of-type {\n",
       "        vertical-align: middle;\n",
       "    }\n",
       "\n",
       "    .dataframe tbody tr th {\n",
       "        vertical-align: top;\n",
       "    }\n",
       "\n",
       "    .dataframe thead th {\n",
       "        text-align: right;\n",
       "    }\n",
       "</style>\n",
       "<table border=\"1\" class=\"dataframe\">\n",
       "  <thead>\n",
       "    <tr style=\"text-align: right;\">\n",
       "      <th></th>\n",
       "      <th>Unnamed: 0</th>\n",
       "      <th>Date_Time_NYC</th>\n",
       "      <th>Day_of_Week</th>\n",
       "      <th>Temp</th>\n",
       "      <th>Humidity_%</th>\n",
       "      <th>PM2.5</th>\n",
       "      <th>PA Particles</th>\n",
       "      <th>Temtop</th>\n",
       "      <th>Neph</th>\n",
       "      <th>Location</th>\n",
       "      <th>Train_Line</th>\n",
       "      <th>Train_number</th>\n",
       "      <th>Outside? (Y/N)</th>\n",
       "      <th>Loc_code</th>\n",
       "      <th>Initials</th>\n",
       "      <th>PM2.5_calib</th>\n",
       "    </tr>\n",
       "  </thead>\n",
       "  <tbody>\n",
       "    <tr>\n",
       "      <th>0</th>\n",
       "      <td>498</td>\n",
       "      <td>2/4/2021 12:17:34</td>\n",
       "      <td>Thursday</td>\n",
       "      <td>70.0</td>\n",
       "      <td>18.0</td>\n",
       "      <td>21.12</td>\n",
       "      <td>55.50</td>\n",
       "      <td>NaN</td>\n",
       "      <td>NaN</td>\n",
       "      <td>59th St - Columbus Circle (A/B/C/D)</td>\n",
       "      <td>NaN</td>\n",
       "      <td>NaN</td>\n",
       "      <td>N</td>\n",
       "      <td>PU</td>\n",
       "      <td>NP</td>\n",
       "      <td>84.780620</td>\n",
       "    </tr>\n",
       "    <tr>\n",
       "      <th>1</th>\n",
       "      <td>499</td>\n",
       "      <td>2/4/2021 12:19:34</td>\n",
       "      <td>Thursday</td>\n",
       "      <td>69.0</td>\n",
       "      <td>18.0</td>\n",
       "      <td>22.75</td>\n",
       "      <td>59.34</td>\n",
       "      <td>NaN</td>\n",
       "      <td>NaN</td>\n",
       "      <td>59th St - Columbus Circle (A/B/C/D)</td>\n",
       "      <td>NaN</td>\n",
       "      <td>NaN</td>\n",
       "      <td>N</td>\n",
       "      <td>PU</td>\n",
       "      <td>NP</td>\n",
       "      <td>91.323821</td>\n",
       "    </tr>\n",
       "    <tr>\n",
       "      <th>2</th>\n",
       "      <td>500</td>\n",
       "      <td>2/4/2021 12:21:34</td>\n",
       "      <td>Thursday</td>\n",
       "      <td>69.0</td>\n",
       "      <td>19.0</td>\n",
       "      <td>30.74</td>\n",
       "      <td>92.88</td>\n",
       "      <td>NaN</td>\n",
       "      <td>NaN</td>\n",
       "      <td>59th St - Columbus Circle (A/B/C/D)</td>\n",
       "      <td>NaN</td>\n",
       "      <td>NaN</td>\n",
       "      <td>N</td>\n",
       "      <td>PU</td>\n",
       "      <td>NP</td>\n",
       "      <td>123.397550</td>\n",
       "    </tr>\n",
       "    <tr>\n",
       "      <th>3</th>\n",
       "      <td>501</td>\n",
       "      <td>2/4/2021 12:23:34</td>\n",
       "      <td>Thursday</td>\n",
       "      <td>69.0</td>\n",
       "      <td>19.0</td>\n",
       "      <td>25.26</td>\n",
       "      <td>67.84</td>\n",
       "      <td>NaN</td>\n",
       "      <td>NaN</td>\n",
       "      <td>59th St - Columbus Circle (A/B/C/D)</td>\n",
       "      <td>NaN</td>\n",
       "      <td>NaN</td>\n",
       "      <td>N</td>\n",
       "      <td>PU</td>\n",
       "      <td>NP</td>\n",
       "      <td>101.399548</td>\n",
       "    </tr>\n",
       "    <tr>\n",
       "      <th>4</th>\n",
       "      <td>502</td>\n",
       "      <td>2/4/2021 12:25:34</td>\n",
       "      <td>Thursday</td>\n",
       "      <td>68.0</td>\n",
       "      <td>19.0</td>\n",
       "      <td>22.82</td>\n",
       "      <td>58.16</td>\n",
       "      <td>NaN</td>\n",
       "      <td>NaN</td>\n",
       "      <td>59th St - Columbus Circle (A/B/C/D)</td>\n",
       "      <td>A</td>\n",
       "      <td>NaN</td>\n",
       "      <td>N</td>\n",
       "      <td>T</td>\n",
       "      <td>NP</td>\n",
       "      <td>91.604817</td>\n",
       "    </tr>\n",
       "  </tbody>\n",
       "</table>\n",
       "</div>"
      ],
      "text/plain": [
       "   Unnamed: 0      Date_Time_NYC Day_of_Week  Temp  Humidity_%  PM2.5  \\\n",
       "0         498  2/4/2021 12:17:34    Thursday  70.0        18.0  21.12   \n",
       "1         499  2/4/2021 12:19:34    Thursday  69.0        18.0  22.75   \n",
       "2         500  2/4/2021 12:21:34    Thursday  69.0        19.0  30.74   \n",
       "3         501  2/4/2021 12:23:34    Thursday  69.0        19.0  25.26   \n",
       "4         502  2/4/2021 12:25:34    Thursday  68.0        19.0  22.82   \n",
       "\n",
       "   PA Particles  Temtop  Neph                             Location Train_Line  \\\n",
       "0         55.50     NaN   NaN  59th St - Columbus Circle (A/B/C/D)        NaN   \n",
       "1         59.34     NaN   NaN  59th St - Columbus Circle (A/B/C/D)        NaN   \n",
       "2         92.88     NaN   NaN  59th St - Columbus Circle (A/B/C/D)        NaN   \n",
       "3         67.84     NaN   NaN  59th St - Columbus Circle (A/B/C/D)        NaN   \n",
       "4         58.16     NaN   NaN  59th St - Columbus Circle (A/B/C/D)          A   \n",
       "\n",
       "   Train_number Outside? (Y/N) Loc_code Initials  PM2.5_calib  \n",
       "0           NaN              N       PU       NP    84.780620  \n",
       "1           NaN              N       PU       NP    91.323821  \n",
       "2           NaN              N       PU       NP   123.397550  \n",
       "3           NaN              N       PU       NP   101.399548  \n",
       "4           NaN              N        T       NP    91.604817  "
      ]
     },
     "execution_count": 4,
     "metadata": {},
     "output_type": "execute_result"
    }
   ],
   "source": [
    "dfmain = pd.read_csv('Masterlist.csv',header = 0,parse_dates = ['Date_Time_NYC'])\n",
    "dfmain.head()"
   ]
  },
  {
   "cell_type": "code",
   "execution_count": 6,
   "metadata": {},
   "outputs": [
    {
     "data": {
      "text/plain": [
       "105.44145079265178"
      ]
     },
     "execution_count": 6,
     "metadata": {},
     "output_type": "execute_result"
    }
   ],
   "source": [
    "np.mean(dfmain['PM2.5_calib'].loc[dfmain['Loc_code'].isin(['PU','T'])])"
   ]
  },
  {
   "cell_type": "code",
   "execution_count": 9,
   "metadata": {
    "scrolled": false
   },
   "outputs": [
    {
     "data": {
      "text/plain": [
       "Apartment (Chelsea)               2704\n",
       "Apartment (UWS)                   1587\n",
       "ABOVEGROUND                        194\n",
       "116th St - Columbia University      89\n",
       "Lexington Ave - 63rd St             54\n",
       "                                  ... \n",
       "Canal St - Holland Tunnel            1\n",
       "Jefferson St                         1\n",
       "Metropolitan Ave                     1\n",
       "Wilson Ave                           1\n",
       "ELEVATOR                             1\n",
       "Name: Location, Length: 132, dtype: int64"
      ]
     },
     "execution_count": 9,
     "metadata": {},
     "output_type": "execute_result"
    }
   ],
   "source": [
    "dfmain['Location'].value_counts()"
   ]
  },
  {
   "cell_type": "code",
   "execution_count": 23,
   "metadata": {},
   "outputs": [
    {
     "data": {
      "text/plain": [
       "448.189214    1\n",
       "543.647696    1\n",
       "465.651131    1\n",
       "113.402107    1\n",
       "Name: PM2.5_calib, dtype: int64"
      ]
     },
     "execution_count": 23,
     "metadata": {},
     "output_type": "execute_result"
    }
   ],
   "source": [
    "dfmain['PM2.5_calib'].loc[dfmain['Location'] == '168th St'].value_counts()"
   ]
  },
  {
   "cell_type": "code",
   "execution_count": 37,
   "metadata": {},
   "outputs": [
    {
     "data": {
      "text/plain": [
       "113.18727153753042"
      ]
     },
     "execution_count": 37,
     "metadata": {},
     "output_type": "execute_result"
    }
   ],
   "source": [
    "locations = dfmain['Location'].unique()\n",
    "loc_means = {}\n",
    "for l in locations:\n",
    "    loc_means[l] = np.mean(dfmain['PM2.5_calib'].loc[dfmain['Location'] == l])\n",
    "# sorted(loc_means, key=loc_means.get, reverse = True)\n",
    "# 'Lower East Side - 2nd Ave', '168th St'\n",
    "loc_means['Lexington Ave - 63rd St']"
   ]
  },
  {
   "cell_type": "code",
   "execution_count": 35,
   "metadata": {
    "scrolled": true
   },
   "outputs": [
    {
     "data": {
      "text/plain": [
       "61.85754009254726"
      ]
     },
     "execution_count": 35,
     "metadata": {},
     "output_type": "execute_result"
    }
   ],
   "source": [
    "np.mean(dfmain['PM2.5_calib'].loc[dfmain['Location'] == '116th St - Columbia University'])"
   ]
  },
  {
   "cell_type": "code",
   "execution_count": null,
   "metadata": {},
   "outputs": [],
   "source": [
    "# Sample trip for exposure analysis: \n",
    "\n",
    "start = dt.datetime.strptime('2021-03-24 16:19', '%Y-%m-%d %H:%M')\n",
    "end = dt.datetime.strptime('2021-03-24 17:49', '%Y-%m-%d %H:%M')\n",
    "\n",
    "daytrip = dfmain.loc[(dfmain['Date_Time_NYC'] >= start) & (dfmain['Date_Time_NYC'] <= end)]\n",
    "daytrip"
   ]
  },
  {
   "cell_type": "code",
   "execution_count": null,
   "metadata": {},
   "outputs": [],
   "source": [
    "fig, ax = plt.subplots()\n",
    "ax.plot(daytrip['Date_Time_NYC'],daytrip['PM2.5_calib'])"
   ]
  },
  {
   "cell_type": "code",
   "execution_count": null,
   "metadata": {},
   "outputs": [],
   "source": [
    "np.mean(daytrip['PM2.5_calib'].loc[daytrip['Loc_code'].isin(['I','O'])])"
   ]
  },
  {
   "cell_type": "code",
   "execution_count": null,
   "metadata": {},
   "outputs": [],
   "source": [
    "codes = daytrip['Loc_code'].unique()\n",
    "code_means = {}\n",
    "for s in codes:\n",
    "    code_means[s] = np.mean(daytrip['PM2.5_calib'].loc[daytrip['Loc_code'] == s])\n",
    "\n",
    "code_errs = {}\n",
    "for t in codes:\n",
    "    code_errs[t] = np.std(daytrip['PM2.5_calib'].loc[daytrip['Loc_code'] == t])/len(\n",
    "        daytrip['PM2.5_calib'].loc[daytrip['Loc_code'] == t])\n",
    "\n",
    "for c in codes:\n",
    "    print('%s:')%(c)"
   ]
  },
  {
   "cell_type": "code",
   "execution_count": 5,
   "metadata": {},
   "outputs": [],
   "source": [
    "codes = dfmain['Loc_code'].unique()\n",
    "code_means = {}\n",
    "for s in codes:\n",
    "    code_means[s] = np.mean(dfmain['PM2.5_calib'].loc[dfmain['Loc_code'] == s])\n",
    "\n",
    "code_errs = {}\n",
    "for t in codes:\n",
    "    code_errs[t] = np.std(dfmain['PM2.5_calib'].loc[dfmain['Loc_code'] == t])/len(\n",
    "        dfmain['PM2.5_calib'].loc[dfmain['Loc_code'] == t])"
   ]
  },
  {
   "cell_type": "code",
   "execution_count": null,
   "metadata": {},
   "outputs": [],
   "source": [
    "# Order: PU, T, PA, I, O, E, F\n",
    "# Exposure scalars calculated as weighted averages of their representative\n",
    "#     location codes\n",
    "hippie_exp = code_means['I']*(4337/4630)+code_means['O']*(293/4630)\n",
    "mole_exp = code_means['PU']*(274/603)+code_means['T']*(287/603) + code_means['PA']*(42/603)\n",
    "\n",
    "# Example exposure profiles based on time spent underground\n",
    "commuter = hippie_exp*(23/24)+mole_exp*(1/24)\n",
    "worker = hippie_exp*(16/24)+mole_exp*(8/24)\n",
    "\n",
    "print(hippie_exp,mole_exp,commuter,worker)"
   ]
  },
  {
   "cell_type": "code",
   "execution_count": null,
   "metadata": {},
   "outputs": [],
   "source": [
    "test = dfmain['Loc_code'].value_counts()\n",
    "test"
   ]
  },
  {
   "cell_type": "code",
   "execution_count": null,
   "metadata": {},
   "outputs": [],
   "source": [
    "((12-hippie_exp)/(mole_exp-hippie_exp) * 24)*60-60"
   ]
  },
  {
   "cell_type": "code",
   "execution_count": null,
   "metadata": {},
   "outputs": [],
   "source": [
    "# Quick function, evaluates exposure based on hours input for commute\n",
    "commute = lambda t: mole_exp*(t/24) + hippie_exp*((24-t)/24)\n",
    "\n",
    "commute(8)/12"
   ]
  },
  {
   "cell_type": "code",
   "execution_count": null,
   "metadata": {},
   "outputs": [],
   "source": []
  }
 ],
 "metadata": {
  "kernelspec": {
   "display_name": "Python 3",
   "language": "python",
   "name": "python3"
  },
  "language_info": {
   "codemirror_mode": {
    "name": "ipython",
    "version": 3
   },
   "file_extension": ".py",
   "mimetype": "text/x-python",
   "name": "python",
   "nbconvert_exporter": "python",
   "pygments_lexer": "ipython3",
   "version": "3.6.8"
  }
 },
 "nbformat": 4,
 "nbformat_minor": 2
}
