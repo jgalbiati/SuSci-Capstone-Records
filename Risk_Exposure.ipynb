{
 "cells": [
  {
   "cell_type": "code",
   "execution_count": 1,
   "metadata": {},
   "outputs": [],
   "source": [
    "import os\n",
    "import numpy as np\n",
    "import pandas as pd\n",
    "import scipy.stats\n",
    "from sklearn.linear_model import LinearRegression as lr\n",
    "import datetime as dt\n",
    "%matplotlib inline\n",
    "import matplotlib.pyplot as plt\n",
    "# plt.style.use('seaborn-whitegrid')\n"
   ]
  },
  {
   "cell_type": "code",
   "execution_count": null,
   "metadata": {},
   "outputs": [],
   "source": [
    "def risk_factor(concentration,contaminant):\n",
    "    cont_factors = {\"benzene\":0.1} #non-carcinogens to be filled in 1/ref_dose\n",
    "    \n",
    "    weight = 70 #kg\n",
    "    ir = .003 * 25 * 3600 #m^3/breath * breath/min * min/day = m^3/day\n",
    "    \n",
    "    #freq is number days/year exposure happens; duration is #years covered in analysis\n",
    "    freq = 180 # days/year\n",
    "    duration = 3 # years\n",
    "    avging_time = duration * 365 #days, ultimately\n",
    "    ef = (freq * duration)/avging_time\n",
    "    \n",
    "    add = (concentration * ir * ef)/weight\n",
    "    risk = add*cont_factors[contaminant]\n",
    "    return risk"
   ]
  },
  {
   "cell_type": "code",
   "execution_count": 4,
   "metadata": {
    "scrolled": true
   },
   "outputs": [],
   "source": [
    "dfmain = pd.read_csv('Masterlist.csv',header = 0,parse_dates = ['Date_Time_NYC'])"
   ]
  },
  {
   "cell_type": "code",
   "execution_count": 6,
   "metadata": {},
   "outputs": [
    {
     "data": {
      "text/plain": [
       "105.44145079265178"
      ]
     },
     "execution_count": 6,
     "metadata": {},
     "output_type": "execute_result"
    }
   ],
   "source": [
    "np.mean(dfmain['PM2.5_calib'].loc[dfmain['Loc_code'].isin(['PU','T'])])"
   ]
  },
  {
   "cell_type": "code",
   "execution_count": 9,
   "metadata": {
    "scrolled": false
   },
   "outputs": [
    {
     "data": {
      "text/plain": [
       "Apartment (Chelsea)               2704\n",
       "Apartment (UWS)                   1587\n",
       "ABOVEGROUND                        194\n",
       "116th St - Columbia University      89\n",
       "Lexington Ave - 63rd St             54\n",
       "                                  ... \n",
       "Canal St - Holland Tunnel            1\n",
       "Jefferson St                         1\n",
       "Metropolitan Ave                     1\n",
       "Wilson Ave                           1\n",
       "ELEVATOR                             1\n",
       "Name: Location, Length: 132, dtype: int64"
      ]
     },
     "execution_count": 9,
     "metadata": {},
     "output_type": "execute_result"
    }
   ],
   "source": [
    "dfmain['Location'].value_counts()"
   ]
  },
  {
   "cell_type": "code",
   "execution_count": 23,
   "metadata": {},
   "outputs": [
    {
     "data": {
      "text/plain": [
       "448.189214    1\n",
       "543.647696    1\n",
       "465.651131    1\n",
       "113.402107    1\n",
       "Name: PM2.5_calib, dtype: int64"
      ]
     },
     "execution_count": 23,
     "metadata": {},
     "output_type": "execute_result"
    }
   ],
   "source": [
    "dfmain['PM2.5_calib'].loc[dfmain['Location'] == '168th St'].value_counts()"
   ]
  },
  {
   "cell_type": "code",
   "execution_count": 37,
   "metadata": {},
   "outputs": [
    {
     "data": {
      "text/plain": [
       "113.18727153753042"
      ]
     },
     "execution_count": 37,
     "metadata": {},
     "output_type": "execute_result"
    }
   ],
   "source": [
    "locations = dfmain['Location'].unique()\n",
    "loc_means = {}\n",
    "for l in locations:\n",
    "    loc_means[l] = np.mean(dfmain['PM2.5_calib'].loc[dfmain['Location'] == l])\n",
    "# sorted(loc_means, key=loc_means.get, reverse = True)\n",
    "# 'Lower East Side - 2nd Ave', '168th St'\n",
    "loc_means['Lexington Ave - 63rd St']"
   ]
  },
  {
   "cell_type": "code",
   "execution_count": 35,
   "metadata": {
    "scrolled": true
   },
   "outputs": [
    {
     "data": {
      "text/plain": [
       "61.85754009254726"
      ]
     },
     "execution_count": 35,
     "metadata": {},
     "output_type": "execute_result"
    }
   ],
   "source": [
    "np.mean(dfmain['PM2.5_calib'].loc[dfmain['Location'] == '116th St - Columbia University'])"
   ]
  },
  {
   "cell_type": "code",
   "execution_count": null,
   "metadata": {},
   "outputs": [],
   "source": [
    "# Sample trip for exposure analysis: \n",
    "\n",
    "start = dt.datetime.strptime('2021-03-24 16:19', '%Y-%m-%d %H:%M')\n",
    "end = dt.datetime.strptime('2021-03-24 17:49', '%Y-%m-%d %H:%M')\n",
    "\n",
    "daytrip = dfmain.loc[(dfmain['Date_Time_NYC'] >= start) & (dfmain['Date_Time_NYC'] <= end)]\n",
    "daytrip"
   ]
  },
  {
   "cell_type": "code",
   "execution_count": null,
   "metadata": {},
   "outputs": [],
   "source": [
    "fig, ax = plt.subplots()\n",
    "ax.plot(daytrip['Date_Time_NYC'],daytrip['PM2.5_calib'])"
   ]
  },
  {
   "cell_type": "code",
   "execution_count": null,
   "metadata": {},
   "outputs": [],
   "source": [
    "np.mean(daytrip['PM2.5_calib'].loc[daytrip['Loc_code'].isin(['I','O'])])"
   ]
  },
  {
   "cell_type": "code",
   "execution_count": null,
   "metadata": {},
   "outputs": [],
   "source": [
    "codes = daytrip['Loc_code'].unique()\n",
    "code_means = {}\n",
    "for s in codes:\n",
    "    code_means[s] = np.mean(daytrip['PM2.5_calib'].loc[daytrip['Loc_code'] == s])\n",
    "\n",
    "code_errs = {}\n",
    "for t in codes:\n",
    "    code_errs[t] = np.std(daytrip['PM2.5_calib'].loc[daytrip['Loc_code'] == t])/len(\n",
    "        daytrip['PM2.5_calib'].loc[daytrip['Loc_code'] == t])\n",
    "\n",
    "for c in codes:\n",
    "    print('%s:')%(c)"
   ]
  },
  {
   "cell_type": "code",
   "execution_count": 5,
   "metadata": {},
   "outputs": [],
   "source": [
    "codes = dfmain['Loc_code'].unique()\n",
    "code_means = {}\n",
    "for s in codes:\n",
    "    code_means[s] = np.mean(dfmain['PM2.5_calib'].loc[dfmain['Loc_code'] == s])\n",
    "\n",
    "code_errs = {}\n",
    "for t in codes:\n",
    "    code_errs[t] = np.std(dfmain['PM2.5_calib'].loc[dfmain['Loc_code'] == t])/len(\n",
    "        dfmain['PM2.5_calib'].loc[dfmain['Loc_code'] == t])"
   ]
  },
  {
   "cell_type": "code",
   "execution_count": null,
   "metadata": {},
   "outputs": [],
   "source": [
    "# Order: PU, T, PA, I, O, E, F\n",
    "# Exposure scalars calculated as weighted averages of their representative\n",
    "#     location codes\n",
    "hippie_exp = code_means['I']*(4337/4630)+code_means['O']*(293/4630)\n",
    "mole_exp = code_means['PU']*(274/603)+code_means['T']*(287/603) + code_means['PA']*(42/603)\n",
    "\n",
    "# Example exposure profiles based on time spent underground\n",
    "commuter = hippie_exp*(23/24)+mole_exp*(1/24)\n",
    "worker = hippie_exp*(16/24)+mole_exp*(8/24)\n",
    "\n",
    "print(hippie_exp,mole_exp,commuter,worker)"
   ]
  },
  {
   "cell_type": "code",
   "execution_count": null,
   "metadata": {},
   "outputs": [],
   "source": [
    "test = dfmain['Loc_code'].value_counts()\n",
    "test"
   ]
  },
  {
   "cell_type": "code",
   "execution_count": null,
   "metadata": {},
   "outputs": [],
   "source": [
    "((12-hippie_exp)/(mole_exp-hippie_exp) * 24)*60-60"
   ]
  },
  {
   "cell_type": "code",
   "execution_count": null,
   "metadata": {},
   "outputs": [],
   "source": [
    "# Quick function, evaluates exposure based on hours input for commute\n",
    "commute = lambda t: mole_exp*(t/24) + hippie_exp*((24-t)/24)\n",
    "\n",
    "commute(8)/12"
   ]
  },
  {
   "cell_type": "code",
   "execution_count": null,
   "metadata": {},
   "outputs": [],
   "source": []
  }
 ],
 "metadata": {
  "kernelspec": {
   "display_name": "Python 3",
   "language": "python",
   "name": "python3"
  },
  "language_info": {
   "codemirror_mode": {
    "name": "ipython",
    "version": 3
   },
   "file_extension": ".py",
   "mimetype": "text/x-python",
   "name": "python",
   "nbconvert_exporter": "python",
   "pygments_lexer": "ipython3",
   "version": "3.6.8"
  }
 },
 "nbformat": 4,
 "nbformat_minor": 2
}
